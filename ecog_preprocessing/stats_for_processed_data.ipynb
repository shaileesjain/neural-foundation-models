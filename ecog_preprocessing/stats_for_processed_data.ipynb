{
 "cells": [
  {
   "cell_type": "code",
   "execution_count": 1,
   "id": "e9f1e619-46a9-49a3-b1a6-21b975bc82a7",
   "metadata": {},
   "outputs": [],
   "source": [
    "import os, sys\n",
    "import csv\n",
    "import json\n",
    "import numpy as np"
   ]
  },
  {
   "cell_type": "code",
   "execution_count": 2,
   "id": "f9d5ef75-9537-4d2f-bbc1-7b6e60f1c2fe",
   "metadata": {},
   "outputs": [
    {
     "name": "stdout",
     "output_type": "stream",
     "text": [
      "Read CSV.\n"
     ]
    }
   ],
   "source": [
    "datapath = \"/data_store1/human/prcsd_data/\"\n",
    "cur_dir = \"/userdata/sjain/projects/neural-foundation-models/ecog_preprocessing\"\n",
    "savepath = f\"{cur_dir}/data/preprocessed\"\n",
    "\n",
    "with open(f\"{cur_dir}/task_database_logging/task_database_Info_20240313.csv\", newline=\"\") as csvfile:\n",
    "    reader = csv.DictReader(csvfile)\n",
    "    rows = [row for row in reader]\n",
    "print(\"Read CSV.\")"
   ]
  },
  {
   "cell_type": "code",
   "execution_count": 3,
   "id": "b829b16f-cd41-49d1-a1f9-06a80f0e6ed2",
   "metadata": {},
   "outputs": [
    {
     "name": "stdout",
     "output_type": "stream",
     "text": [
      "(1067, 3)\n",
      "Number of patients processed: 129\n",
      "  Stats for #blocks per patient: 8.27 (mean),  1 (min),  40 (max)\n",
      "\n",
      "  Number of patients processed for task MOCHA: 47\n",
      "  Number of blocks processed for task MOCHA: 409\n",
      "    Stats for #blocks per patient for task MOCHA: 8.7 (mean),  1 (min),  27 (max)\n",
      "\n",
      "  Number of patients processed for task TIMIT: 114\n",
      "  Number of blocks processed for task TIMIT: 570\n",
      "    Stats for #blocks per patient for task TIMIT: 5.0 (mean),  1 (min),  13 (max)\n",
      "\n",
      "  Number of patients processed for task conversation: 27\n",
      "  Number of blocks processed for task conversation: 87\n",
      "    Stats for #blocks per patient for task conversation: 3.22 (mean),  1 (min),  14 (max)\n",
      "\n",
      "  Number of patients processed for task interview: 1\n",
      "  Number of blocks processed for task interview: 1\n",
      "    Stats for #blocks per patient for task interview: 1.0 (mean),  1 (min),  1 (max)\n",
      "\n"
     ]
    }
   ],
   "source": [
    "# Read each entry from our task database.\n",
    "blocks_done = []\n",
    "for row in rows:\n",
    "    subj, block, task, valid = row[\"SubjectID\"], row[\"Block\"], row[\"Task\"], row[\"Valid\"]\n",
    "    subj_id = int(subj[2:])\n",
    "    blockname = f\"{subj}_B{block}\"\n",
    "    storepath = os.path.join(savepath, subj, blockname)\n",
    "    d1_path = os.path.join(storepath, f\"{blockname}_nocar_Hilb.h5\")\n",
    "    d2_path = os.path.join(storepath, \"ecog400/ecog.mat\")\n",
    "    if os.path.exists(d1_path):\n",
    "        blocks_done.append([subj, block, task])\n",
    "blocks_done = np.array(blocks_done)\n",
    "print(blocks_done.shape)\n",
    "\n",
    "print(\"Number of patients processed:\", np.unique(blocks_done[:, 0]).shape[0])\n",
    "nblock = []\n",
    "for subj in np.unique(blocks_done[:, 0]):\n",
    "    nblock.append(sum(blocks_done[:, 0]==subj))\n",
    "print(\"  Stats for #blocks per patient:\", np.mean(nblock).round(2), \"(mean), \", np.min(nblock), \"(min), \", np.max(nblock), \"(max)\")\n",
    "print()\n",
    "for task in np.unique(blocks_done[:, 2]):\n",
    "    print(f\"  Number of patients processed for task {task}:\", np.unique(blocks_done[blocks_done[:, 2]==task, 0]).shape[0])\n",
    "    print(f\"  Number of blocks processed for task {task}:\", sum(blocks_done[:, 2]==task))\n",
    "    nblock = []\n",
    "    for subj in np.unique(blocks_done[blocks_done[:, 2]==task, 0]):\n",
    "        nblock.append(sum(blocks_done[blocks_done[:, 2]==task, 0]==subj))\n",
    "    print(f\"    Stats for #blocks per patient for task {task}:\", np.mean(nblock).round(2), \"(mean), \", np.min(nblock), \"(min), \", np.max(nblock), \"(max)\")\n",
    "    print()"
   ]
  },
  {
   "cell_type": "code",
   "execution_count": 4,
   "id": "9053cddf-03cf-4349-9241-9d4f28a9fadc",
   "metadata": {},
   "outputs": [
    {
     "data": {
      "text/plain": [
       "('EC70', '3', 'interview', 'unknown')"
      ]
     },
     "execution_count": 4,
     "metadata": {},
     "output_type": "execute_result"
    }
   ],
   "source": [
    "for row in rows:\n",
    "    subj, block, task, valid = row[\"SubjectID\"], row[\"Block\"], row[\"Task\"], row[\"Valid\"]\n",
    "    subj_id = int(subj[2:])\n",
    "    blockname = f\"{subj}_B{block}\"\n",
    "    storepath = os.path.join(savepath, subj, blockname)\n",
    "    d1_path = os.path.join(storepath, f\"{blockname}_nocar_Hilb.h5\")\n",
    "    d2_path = os.path.join(storepath, \"ecog400/ecog.mat\")\n",
    "    if os.path.exists(d1_path):\n",
    "        if task==\"interview\":\n",
    "            break\n",
    "subj, block, task, valid"
   ]
  },
  {
   "cell_type": "code",
   "execution_count": 5,
   "id": "82d006b7-f06a-45b5-98c3-0f38e82d7a96",
   "metadata": {},
   "outputs": [
    {
     "data": {
      "text/plain": [
       "array(['BURSC', 'MOCHA', 'TIMIT', 'conversation', 'interview'],\n",
       "      dtype='<U12')"
      ]
     },
     "execution_count": 5,
     "metadata": {},
     "output_type": "execute_result"
    }
   ],
   "source": [
    "tasks = []\n",
    "for row in rows:\n",
    "    subj, block, task, valid = row[\"SubjectID\"], row[\"Block\"], row[\"Task\"], row[\"Valid\"]\n",
    "    tasks.append(task)\n",
    "np.unique(tasks)"
   ]
  },
  {
   "cell_type": "code",
   "execution_count": null,
   "id": "963c4715-7899-4c0e-9cbf-df88a8554463",
   "metadata": {},
   "outputs": [],
   "source": []
  }
 ],
 "metadata": {
  "kernelspec": {
   "display_name": "Python 3",
   "language": "python",
   "name": "python3"
  },
  "language_info": {
   "codemirror_mode": {
    "name": "ipython",
    "version": 3
   },
   "file_extension": ".py",
   "mimetype": "text/x-python",
   "name": "python",
   "nbconvert_exporter": "python",
   "pygments_lexer": "ipython3",
   "version": "3.6.13"
  }
 },
 "nbformat": 4,
 "nbformat_minor": 5
}
