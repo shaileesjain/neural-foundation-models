{
 "cells": [
  {
   "cell_type": "markdown",
   "id": "a5d55c7c-f1cd-4e3b-875c-3797f53dcb2b",
   "metadata": {},
   "source": [
    "TODO (SJ):\n",
    "1. Check if data exists already."
   ]
  },
  {
   "cell_type": "code",
   "execution_count": 1,
   "id": "78332ecf-7f2c-4d07-8ac6-b09d0c965a87",
   "metadata": {},
   "outputs": [],
   "source": [
    "import os, sys\n",
    "import csv\n",
    "from collections import defaultdict\n",
    "from datetime import datetime\n",
    "import json\n",
    "\n",
    "sys.path.insert(0, \"/userdata/sjain/ECoG_data_collection/\")\n",
    "from ecog_preprocessing.transformData import transform as transformData"
   ]
  },
  {
   "cell_type": "code",
   "execution_count": null,
   "id": "1da01901-1122-46a5-bbf5-fabadbbdf947",
   "metadata": {
    "tags": []
   },
   "outputs": [
    {
     "name": "stdout",
     "output_type": "stream",
     "text": [
      "Processing blockname EC6_B36.\n",
      "\n",
      "do downsampling\n",
      "Didn't find data. Skipping blockname EC6_B36.\n",
      "\n",
      "Processing blockname EC6_B38.\n",
      "\n",
      "do downsampling\n",
      "Didn't find data. Skipping blockname EC6_B38.\n",
      "\n",
      "Processing blockname EC6_B42.\n",
      "\n",
      "do downsampling\n",
      "Didn't find data. Skipping blockname EC6_B42.\n",
      "\n",
      "Processing blockname EC28_B3.\n",
      "\n",
      "do downsampling\n"
     ]
    }
   ],
   "source": [
    "# mkdir data/processed\n",
    "datapath = \"/data_store1/human/prcsd_data/\"\n",
    "savepath = \"data/processed\"\n",
    "\n",
    "subj_blocks = defaultdict(list)\n",
    "bad_combos = []\n",
    "good_rows = []\n",
    "\n",
    "with open(\"task_database_logging/task_database_Info_20240313.csv\", newline=\"\") as csvfile:\n",
    "    reader = csv.DictReader(csvfile)\n",
    "    rows = [row for row in reader]\n",
    "# Read each entry from our task database.\n",
    "for row in rows:\n",
    "    subj, block, task, valid = row[\"SubjectID\"], row[\"Block\"], row[\"Task\"], row[\"Valid\"]\n",
    "    if valid.lower()==\"bad\": continue\n",
    "    subj_blocks[subj].append(block)\n",
    "\n",
    "    blockname = f\"{subj}_B{block}\"\n",
    "    blockpath = os.path.join(datapath, subj, blockname)\n",
    "    storepath = os.path.join(savepath, subj, blockname)\n",
    "\n",
    "    try:\n",
    "        print(f\"Processing blockname {blockname}.\\n\")\n",
    "        transformData(blockpath, rate=400, car=False, line_noise_notch=True, force=True, storepath=storepath)\n",
    "        # If able to preprocess, record the entire `row` as good.\n",
    "        row[\"prcsd_date\"] = datetime.today().strftime('%Y-%m-%d %H:%M:%S')\n",
    "        row[\"prcsd_loc\"] = storepath\n",
    "        good_rows.append(row)\n",
    "        with open(\"task_database_logging/task_database_Log.json\", \"w\") as f:\n",
    "            json.dump(good_rows, f)\n",
    "    except FileNotFoundError:\n",
    "        print(f\"Didn't find data. Skipping blockname {blockname}.\\n\")\n",
    "        # If not able to preprocess, record the `subject-block` as bad.\n",
    "        bad_combos.append(blockname)"
   ]
  },
  {
   "cell_type": "code",
   "execution_count": null,
   "id": "1ab9312e-1031-4da4-a5cb-5966ca2efaa9",
   "metadata": {},
   "outputs": [],
   "source": []
  }
 ],
 "metadata": {
  "kernelspec": {
   "display_name": "Python 3",
   "language": "python",
   "name": "python3"
  },
  "language_info": {
   "codemirror_mode": {
    "name": "ipython",
    "version": 3
   },
   "file_extension": ".py",
   "mimetype": "text/x-python",
   "name": "python",
   "nbconvert_exporter": "python",
   "pygments_lexer": "ipython3",
   "version": "3.6.13"
  }
 },
 "nbformat": 4,
 "nbformat_minor": 5
}
